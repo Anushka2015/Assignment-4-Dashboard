{
 "cells": [
  {
   "cell_type": "code",
   "execution_count": 1,
   "id": "a76b1ff2",
   "metadata": {},
   "outputs": [],
   "source": [
    "#Q1. What exactly is []?\n",
    "#Ans: It is an empty list."
   ]
  },
  {
   "cell_type": "code",
   "execution_count": 1,
   "id": "4379a2e9",
   "metadata": {},
   "outputs": [
    {
     "name": "stdout",
     "output_type": "stream",
     "text": [
      "[2, 4, 'hello', 8, 10]\n"
     ]
    }
   ],
   "source": [
    "#Q2. In a list of values stored in a variable called spam, how would you assign the value \"hello\" as the\n",
    "#third value? (Assume [2, 4, 6, 8, 10] are in spam.)\n",
    "#---------------------------------------------\n",
    "#Ans:\n",
    "spam=[2, 4, 6, 8, 10]\n",
    "spam[2]=\"hello\"\n",
    "print(spam)"
   ]
  },
  {
   "cell_type": "code",
   "execution_count": 5,
   "id": "030d9dbe",
   "metadata": {},
   "outputs": [
    {
     "data": {
      "text/plain": [
       "'d'"
      ]
     },
     "execution_count": 5,
     "metadata": {},
     "output_type": "execute_result"
    }
   ],
   "source": [
    "#Let's pretend the spam includes the list [\"a\",\"b\",\"c\",\"d\"] for the next three queries.\n",
    "#Q3. What is the value of spam[int(int(\"3\" * 2) / 11)]?\n",
    "#------------------------------------------\n",
    "spam=[\"a\",\"b\",\"c\",\"d\"]\n",
    "spam[int(int(\"3\" * 2) / 11)]"
   ]
  },
  {
   "cell_type": "code",
   "execution_count": 6,
   "id": "94e0403f",
   "metadata": {},
   "outputs": [
    {
     "data": {
      "text/plain": [
       "'d'"
      ]
     },
     "execution_count": 6,
     "metadata": {},
     "output_type": "execute_result"
    }
   ],
   "source": [
    "#Q4. What is the value of spam[-1]?\n",
    "spam[-1]"
   ]
  },
  {
   "cell_type": "code",
   "execution_count": 7,
   "id": "9337b46e",
   "metadata": {},
   "outputs": [
    {
     "data": {
      "text/plain": [
       "['a', 'b']"
      ]
     },
     "execution_count": 7,
     "metadata": {},
     "output_type": "execute_result"
    }
   ],
   "source": [
    "#Q5. What is the value of spam[:2]?\n",
    "spam[:2]"
   ]
  },
  {
   "cell_type": "code",
   "execution_count": 9,
   "id": "db52169b",
   "metadata": {},
   "outputs": [
    {
     "data": {
      "text/plain": [
       "1"
      ]
     },
     "execution_count": 9,
     "metadata": {},
     "output_type": "execute_result"
    }
   ],
   "source": [
    "#let's pretend bacon has the list [3.14,\"cat\", 11,\"cat\", True] for the next three questions.\n",
    "#Q6. What is the value of bacon.index(\"cat\")?\n",
    "\n",
    "\n",
    "bacon= [3.14,\"cat\", 11,\"cat\", True] \n",
    "bacon.index(\"cat\")"
   ]
  },
  {
   "cell_type": "code",
   "execution_count": 10,
   "id": "8c65eaf5",
   "metadata": {},
   "outputs": [
    {
     "name": "stdout",
     "output_type": "stream",
     "text": [
      "[3.14, 'cat', 11, 'cat', True, 99]\n"
     ]
    }
   ],
   "source": [
    "#Q7. How does bacon.append(99) change the look of the list value in bacon?\n",
    "bacon.append(99)\n",
    "print(bacon)"
   ]
  },
  {
   "cell_type": "code",
   "execution_count": 16,
   "id": "978e5eab",
   "metadata": {},
   "outputs": [
    {
     "name": "stdout",
     "output_type": "stream",
     "text": [
      "[3.14, 11, 'cat', True]\n"
     ]
    }
   ],
   "source": [
    "#Q8. How does bacon.remove(\"cat\") change the look of the list in bacon?\n",
    "bacon= [3.14,\"cat\", 11,\"cat\", True] \n",
    "bacon.remove(\"cat\")\n",
    "print(bacon)"
   ]
  },
  {
   "cell_type": "code",
   "execution_count": null,
   "id": "7f600b87",
   "metadata": {},
   "outputs": [],
   "source": [
    "#Q9. What are the list concatenation and list replication operators?\n",
    "#Ans: list concatenation operator is \"+\" and list replication operator is \"*\"."
   ]
  },
  {
   "cell_type": "code",
   "execution_count": 18,
   "id": "25f365ce",
   "metadata": {},
   "outputs": [
    {
     "name": "stdout",
     "output_type": "stream",
     "text": [
      "[1, 2, 3, 4, 5, 6]\n"
     ]
    }
   ],
   "source": [
    "#Q10. What is difference between the list methods append() and insert()?\n",
    "list=[1,2,3,4,5]\n",
    "list.append(6)\n",
    "print(list)\n",
    "#Ans:   apppend() method add value at last in the given list."
   ]
  },
  {
   "cell_type": "code",
   "execution_count": 21,
   "id": "aa173e58",
   "metadata": {},
   "outputs": [
    {
     "name": "stdout",
     "output_type": "stream",
     "text": [
      "[1, 2, 9, 3, 4, 5]\n"
     ]
    }
   ],
   "source": [
    "list=[1,2,3,4,5]\n",
    "list.insert(2,9)\n",
    "print(list)\n",
    "#Ans: insert() method used for replace the given value in list to another by passing two arguments one is index \n",
    "#at which index we want to replace value and the other is value which we want to add."
   ]
  },
  {
   "cell_type": "code",
   "execution_count": 23,
   "id": "05a6acb2",
   "metadata": {},
   "outputs": [
    {
     "name": "stdout",
     "output_type": "stream",
     "text": [
      "[2, 4, 5, 66, 35, 22, 54, 'rahul']\n"
     ]
    }
   ],
   "source": [
    "#Q11. What are the two methods for removing items from a list?\n",
    "list=[2,4,5,66,777,35,22,54,\"rahul\"]\n",
    "list.remove(777)\n",
    "print(list)"
   ]
  },
  {
   "cell_type": "code",
   "execution_count": 31,
   "id": "0ce825ac",
   "metadata": {},
   "outputs": [
    {
     "name": "stdout",
     "output_type": "stream",
     "text": [
      "[]\n"
     ]
    }
   ],
   "source": [
    "list=[2,4,5,66,54,88,98]\n",
    "list.clear()\n",
    "print(list)"
   ]
  },
  {
   "cell_type": "code",
   "execution_count": null,
   "id": "05e0ee08",
   "metadata": {},
   "outputs": [],
   "source": [
    "#Ans:remove and clear(remove all the elements present in list) are the two methods for removing items from a list."
   ]
  },
  {
   "cell_type": "code",
   "execution_count": null,
   "id": "df298f80",
   "metadata": {},
   "outputs": [],
   "source": [
    "#Q12. Describe how list values and string values are identical.\n",
    "#Ans:Both strings and lists have lengths a string's length is the number of characters in the string; a list's \n",
    "#length is the number of items in the list. Each character in a string as well as each item in a list has a position, \n",
    "#also called an index."
   ]
  },
  {
   "cell_type": "code",
   "execution_count": null,
   "id": "6358dffb",
   "metadata": {},
   "outputs": [],
   "source": [
    "#Q13. What\"s the difference between tuples and lists?\n",
    "#Ans: List is a collection which is ordered and changeable. Allows duplicate members.\n",
    "#Tuple is a collection which is ordered and unchangeable. Allows duplicate members."
   ]
  },
  {
   "cell_type": "code",
   "execution_count": 32,
   "id": "4b61ccd8",
   "metadata": {},
   "outputs": [],
   "source": [
    "#Q14. How do you type a tuple value that only contains the integer 42?\n",
    "t=(42,)\n",
    "#the trailing comma is mandatory"
   ]
  },
  {
   "cell_type": "code",
   "execution_count": 48,
   "id": "56a6a9d8",
   "metadata": {},
   "outputs": [
    {
     "data": {
      "text/plain": [
       "(1, 2, 3, 4, 5)"
      ]
     },
     "execution_count": 48,
     "metadata": {},
     "output_type": "execute_result"
    }
   ],
   "source": [
    "#15. How do you get a list value's tuple form? How do you get a tuple value's list form?\n",
    "l1=[1,2,3,4,5]\n",
    "tuple(l1)"
   ]
  },
  {
   "cell_type": "code",
   "execution_count": 59,
   "id": "f8c75639",
   "metadata": {},
   "outputs": [
    {
     "ename": "TypeError",
     "evalue": "'list' object is not callable",
     "output_type": "error",
     "traceback": [
      "\u001b[1;31m---------------------------------------------------------------------------\u001b[0m",
      "\u001b[1;31mTypeError\u001b[0m                                 Traceback (most recent call last)",
      "Input \u001b[1;32mIn [59]\u001b[0m, in \u001b[0;36m<cell line: 2>\u001b[1;34m()\u001b[0m\n\u001b[0;32m      1\u001b[0m numbers\u001b[38;5;241m=\u001b[39m(\u001b[38;5;241m44\u001b[39m,\u001b[38;5;241m77\u001b[39m,\u001b[38;5;241m8\u001b[39m,\u001b[38;5;241m34\u001b[39m,\u001b[38;5;241m66\u001b[39m)\n\u001b[1;32m----> 2\u001b[0m a\u001b[38;5;241m=\u001b[39m\u001b[38;5;28;43mlist\u001b[39;49m\u001b[43m(\u001b[49m\u001b[43mnumbers\u001b[49m\u001b[43m)\u001b[49m\n\u001b[0;32m      3\u001b[0m \u001b[38;5;28mprint\u001b[39m(a)\n",
      "\u001b[1;31mTypeError\u001b[0m: 'list' object is not callable"
     ]
    }
   ],
   "source": [
    "numbers=(44,77,8,34,66)\n",
    "a=list(numbers)\n",
    "print(a)#-------------this code is working in another jupyter file."
   ]
  },
  {
   "cell_type": "code",
   "execution_count": null,
   "id": "50355179",
   "metadata": {},
   "outputs": [],
   "source": [
    "#Q16. Variables that \"contain\" list values are not necessarily lists themselves. Instead, what do they\n",
    "#contain?\n",
    "#Ans:Variables will contain references to list values rather than list values themselves. \n",
    "#But for strings and integer values, variables simply contain the string or integer value."
   ]
  },
  {
   "cell_type": "code",
   "execution_count": 62,
   "id": "a6f6760c",
   "metadata": {},
   "outputs": [],
   "source": [
    "#Q17. How do you distinguish between copy.copy() and copy.deepcopy()?\n",
    "#copy() create reference to original object. If you change copied object - you change the original object.\n",
    "#deepcopy() creates new object and does real copying of original object to new one"
   ]
  },
  {
   "cell_type": "code",
   "execution_count": null,
   "id": "9319eba3",
   "metadata": {},
   "outputs": [],
   "source": []
  }
 ],
 "metadata": {
  "kernelspec": {
   "display_name": "Python 3 (ipykernel)",
   "language": "python",
   "name": "python3"
  },
  "language_info": {
   "codemirror_mode": {
    "name": "ipython",
    "version": 3
   },
   "file_extension": ".py",
   "mimetype": "text/x-python",
   "name": "python",
   "nbconvert_exporter": "python",
   "pygments_lexer": "ipython3",
   "version": "3.9.0"
  }
 },
 "nbformat": 4,
 "nbformat_minor": 5
}
